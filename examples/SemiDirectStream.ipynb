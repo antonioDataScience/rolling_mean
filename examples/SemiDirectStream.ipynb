{
 "cells": [
  {
   "cell_type": "code",
   "execution_count": null,
   "metadata": {},
   "outputs": [],
   "source": [
    "window = 45\n",
    "number_of_documents = 6"
   ]
  },
  {
   "cell_type": "code",
   "execution_count": null,
   "metadata": {},
   "outputs": [],
   "source": [
    "import urllib\n",
    "from bs4 import BeautifulSoup"
   ]
  },
  {
   "cell_type": "code",
   "execution_count": null,
   "metadata": {},
   "outputs": [],
   "source": [
    "web_page = \"https://www1.nyc.gov/site/tlc/about/tlc-trip-record-data.page\""
   ]
  },
  {
   "cell_type": "code",
   "execution_count": null,
   "metadata": {},
   "outputs": [],
   "source": [
    "import requests \n",
    "import re"
   ]
  },
  {
   "cell_type": "code",
   "execution_count": null,
   "metadata": {},
   "outputs": [],
   "source": [
    "response = requests.get(web_page)"
   ]
  },
  {
   "cell_type": "code",
   "execution_count": null,
   "metadata": {},
   "outputs": [],
   "source": [
    "soup_obj = BeautifulSoup(response.text,'lxml')"
   ]
  },
  {
   "cell_type": "code",
   "execution_count": null,
   "metadata": {},
   "outputs": [],
   "source": [
    "links_nonprepared = soup_obj.find_all('a', href=re.compile('yellow_tripdata'))"
   ]
  },
  {
   "cell_type": "code",
   "execution_count": null,
   "metadata": {},
   "outputs": [],
   "source": [
    "links = []\n",
    "for link in links_nonprepared:\n",
    "    links.append(link.attrs['href'])"
   ]
  },
  {
   "cell_type": "code",
   "execution_count": null,
   "metadata": {},
   "outputs": [],
   "source": [
    "import csv\n",
    "from contextlib import closing\n",
    "import codecs"
   ]
  },
  {
   "cell_type": "code",
   "execution_count": null,
   "metadata": {},
   "outputs": [],
   "source": [
    "import numpy as np\n",
    "import pandas as pd\n",
    "from collections import defaultdict\n",
    "import re, datetime"
   ]
  },
  {
   "cell_type": "code",
   "execution_count": null,
   "metadata": {},
   "outputs": [],
   "source": [
    "data = defaultdict(dict)"
   ]
  },
  {
   "cell_type": "code",
   "execution_count": null,
   "metadata": {},
   "outputs": [],
   "source": [
    "import matplotlib.pyplot as plt\n",
    "%matplotlib notebook\n",
    "plt.rcParams['animation.html'] = 'jshtml'"
   ]
  },
  {
   "cell_type": "code",
   "execution_count": null,
   "metadata": {},
   "outputs": [],
   "source": [
    "class RollingMean():\n",
    "    def __init__(self, window, dict):\n",
    "        self.dict = {} \n",
    "        self.window = window\n",
    "        self.rolling_mean_results = []\n",
    "        self.x = []\n",
    "        self.y = []\n",
    "        \n",
    " \n",
    "    def handler(self,row_date,row_value):\n",
    "        if row_date not in self.dict:\n",
    "            self.dict[row_date]= {'km'    : row_value, 'N': 1, 'mean' : row_value} \n",
    "        else:\n",
    "            self.dict[row_date]= { 'km'   : self.dict[row_date]['km'] + row_value,\n",
    "                                    'N'   : self.dict[row_date]['N']  + 1,\n",
    "                                   'mean' : self.mean(row_value,\n",
    "                                                      self.dict[row_date]['N'],\n",
    "                                                      self.dict[row_date]['mean'])} \n",
    "                \n",
    "    def mean(self,new_sample, N, mean):\n",
    "        mean -= mean / N;\n",
    "        mean += new_sample / N;\n",
    "        return mean;\n",
    "    \n",
    "    def rolling_mean(self,keys):\n",
    "        self.mean_helper = self.dict[keys[0]]['mean']\n",
    "        if self.window > len(keys):\n",
    "            return\n",
    "        \n",
    "        if self.window < len(keys):\n",
    "            for key in keys[:self.window]:\n",
    "                self.mean_helper = self.mean(self.dict[key]['mean'],\n",
    "                                             len(self.rolling_mean_results) + 1,\n",
    "                                             self.mean_helper)\n",
    "                \n",
    "            self.rolling_mean_results.append([keys[:self.window],self.mean_helper])\n",
    "            self.rolling_mean(keys[1:])\n",
    "            \n",
    "    def process_data(self,row,input_date):\n",
    "        date = row[1].rsplit(\" \",1)[0]\n",
    "        match = re.search('\\d{4}-\\d{2}', date)\n",
    "        given_date = datetime.datetime.strptime(match.group(), '%Y-%m').date() \n",
    "        if given_date == input_date:\n",
    "            self.handler(date, float(row[4]))\n",
    "        else:\n",
    "            return  \n",
    "        \n",
    "                   \n",
    "    def plot(self,x_axis,y_axis,i ):\n",
    "        ax.plot(x_axis, y_axis, color='b')\n",
    "        ax.set_title(\"Rolling mean\")\n",
    "        ax.set_xlabel(\"Window index\")\n",
    "        ax.set_ylabel(\"Mean by the window\")\n",
    "        fig.canvas.draw()\n",
    "        ax.set_xlim(left=max(0, i-50), right=i+50)\n",
    " "
   ]
  },
  {
   "cell_type": "code",
   "execution_count": null,
   "metadata": {},
   "outputs": [],
   "source": [
    "obj = RollingMean(window, data)"
   ]
  },
  {
   "cell_type": "code",
   "execution_count": null,
   "metadata": {},
   "outputs": [],
   "source": [
    "for ix, link in enumerate(links):\n",
    "    match = re.search('\\d{4}-\\d{2}', link)\n",
    "    input_date = datetime.datetime.strptime(match.group(), '%Y-%m').date()\n",
    "    with closing(requests.get(link, stream=True)) as r:\n",
    "        reader = csv.reader(codecs.iterdecode(r.iter_lines(),'utf-8') )\n",
    "        for row in reader:\n",
    "            if row and ('trip_distance' not in row):\n",
    "                  obj.process_data(row,input_date) \n",
    "    if ix == number_of_documents-1:\n",
    "        break"
   ]
  },
  {
   "cell_type": "code",
   "execution_count": null,
   "metadata": {},
   "outputs": [],
   "source": [
    "keys = list(obj.dict.keys())\n",
    "keys.sort()\n",
    "obj.rolling_mean(keys)"
   ]
  },
  {
   "cell_type": "code",
   "execution_count": null,
   "metadata": {},
   "outputs": [],
   "source": [
    "temp_list = [i[1] for i in obj.rolling_mean_results]"
   ]
  },
  {
   "cell_type": "code",
   "execution_count": null,
   "metadata": {},
   "outputs": [],
   "source": [
    "fig = plt.figure()\n",
    "ax = fig.add_subplot(111)\n",
    "fig.show()"
   ]
  },
  {
   "cell_type": "code",
   "execution_count": null,
   "metadata": {},
   "outputs": [],
   "source": [
    "x = []\n",
    "y = []\n",
    "for i,j in enumerate(temp_list):\n",
    "    x.append(i)\n",
    "    y.append(j)\n",
    "    obj.plot(x,y,i)"
   ]
  }
 ],
 "metadata": {
  "kernelspec": {
   "display_name": "Python 3",
   "language": "python",
   "name": "python3"
  },
  "language_info": {
   "codemirror_mode": {
    "name": "ipython",
    "version": 3
   },
   "file_extension": ".py",
   "mimetype": "text/x-python",
   "name": "python",
   "nbconvert_exporter": "python",
   "pygments_lexer": "ipython3",
   "version": "3.6.5"
  }
 },
 "nbformat": 4,
 "nbformat_minor": 2
}
